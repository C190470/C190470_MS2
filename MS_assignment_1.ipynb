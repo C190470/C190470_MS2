{
  "cells": [
    {
      "metadata": {
        "collapsed": true
      },
      "cell_type": "markdown",
      "source": "## 数理統計学(2019)　課題1\n\n### このnotebookには、いくつかの課題が記載されています。\n### 先頭から順番に、指示に従ってPython Codeをcellに記述してください。\n### codeを記述するcellは、各自適切に生成してください。\n\n### 課題提出方法\n#### 各自のGitHubに、学籍番号_MS1（たとえば、C180001_MS1)という名称のrepositoryを作成してください。\n#### このnotebookを各自のGitHubのリポジトリ（学籍番号_MS1)へコピーしてください。\n#### 各自のGitHubのリポジトリをoffice 365のメールアカウントを使用して、sugimura@ccg.ac.jpへ送信してください。メールの件名は、学籍番号_MS1としてください。\n##### 【重要】指定された方法で課題を提出することも課題に含まれています。"
    },
    {
      "metadata": {},
      "cell_type": "markdown",
      "source": "#### 第1問：Pythonにおいて数値計算を行うためのモジュルnumpyをインポートし、numpy数値計算ライブラリを利用できるように設定してください。"
    },
    {
      "metadata": {
        "trusted": true
      },
      "cell_type": "code",
      "source": "import numpy as np\n\nA = np.random.normal(25.0, 5.0, 10)\n\nprint (A)",
      "execution_count": 5,
      "outputs": [
        {
          "output_type": "stream",
          "text": "[25.75105582 23.37418905 29.57150233 24.81785199 15.57898494 21.08065583\n 13.20377622 33.8891161  21.10946221 25.0640729 ]\n",
          "name": "stdout"
        }
      ]
    },
    {
      "metadata": {},
      "cell_type": "markdown",
      "source": "#### 第2問：numpyのメソッドnumpy.random.normal(avg, std, n)は、平均がavg、標準偏差がstdである正規分布に従う乱数をn個発生させることができます。このメソッドを使用して、平均=60、標準偏差=15、個数=50である乱数からなるリストA1を発生させ、画面に表示させてください。\n"
    },
    {
      "metadata": {
        "trusted": true
      },
      "cell_type": "code",
      "source": "import numpy as nl\n\nA1 = nl.random.normal(60.0, 15.0, 50)\n\nprint (A1)",
      "execution_count": 3,
      "outputs": [
        {
          "output_type": "stream",
          "text": "[49.33602915 65.002149   45.0480174  51.5011744  40.15820691 44.12837928\n 55.75465552 45.61979054 24.67311692 52.66180934 82.45184313 63.41622872\n 41.00863344 49.17096416 45.86630555 72.38681312 47.2943112  30.36984997\n 77.04313242 69.67531827 75.75955899 81.64205407 51.10679308 77.326886\n 86.84947961 65.34466998 88.09434361 65.61700053 51.62604368 60.20993328\n 72.15027544 77.95381964 58.67776643 29.38350203 35.19690448 43.17270949\n 48.38404954 41.15707588 66.09057159 69.17859943 38.44282188 34.36699457\n 64.62171546 56.06431721 87.36844958 59.73604565 78.82703611 71.90308638\n 46.02991414 64.46262104]\n",
          "name": "stdout"
        }
      ]
    },
    {
      "metadata": {},
      "cell_type": "markdown",
      "source": "#### 第3問：第2問で発生させた乱数を整数に変換して、50個の整数のリストA2を発生させ、画面に表示させてください。\n#### Pythonのint関数は、データを整数へ変換することができます。xが実数であるとき、int(x)は、xを丸めた整数型の数値を返します。\n#### なお、リスト内包表記を用いると、コードを簡単化することができます。"
    },
    {
      "metadata": {
        "trusted": true
      },
      "cell_type": "code",
      "source": "i = 0\nA2 = []\nwhile (i < len(A1)):\n    x = A1[i]\n    A2.append(int(x))\n    i += 1\nprint(A2)\n",
      "execution_count": 10,
      "outputs": [
        {
          "output_type": "stream",
          "text": "[49, 65, 45, 51, 40, 44, 55, 45, 24, 52, 82, 63, 41, 49, 45, 72, 47, 30, 77, 69, 75, 81, 51, 77, 86, 65, 88, 65, 51, 60, 72, 77, 58, 29, 35, 43, 48, 41, 66, 69, 38, 34, 64, 56, 87, 59, 78, 71, 46, 64]\n",
          "name": "stdout"
        }
      ]
    },
    {
      "metadata": {},
      "cell_type": "markdown",
      "source": "#### 第3問：以下の整数型リストB1の要素の平均値を計算して、画面に表示させてください。\n\n##### なお、平均値は、\n\n$$平均値　= \\frac{リスト中の要素の合計}{リスト中の要素の個数}$$\n\n##### によって計算してください。\n\nB1 = [80, 84, 41, 58, 87, 75, 61, 103, 52, 86, 91, 58, 53, 40, 56, 55, 57, 43, 60, 61, 61, 46, 99, 48, 58, \n      72, 52, 75, 71, 60, 54, 60, 64, 38, 56, 57, 78, 55, 53, 28, 67, 86, 75, 73, 82, 86, 65, 26, 59, 24]"
    },
    {
      "metadata": {
        "trusted": true
      },
      "cell_type": "code",
      "source": "B1 = [80, 84, 41, 58, 87, 75, 61, 103, 52, 86, 91, 58, 53, 40, 56, 55, 57, 43, 60, 61, 61, 46, 99, 48, 58, \n      72, 52, 75, 71, 60, 54, 60, 64, 38, 56, 57, 78, 55, 53, 28, 67, 86, 75, 73, 82, 86, 65, 26, 59, 24]\n\navg = sum(B1)/len(B1)\n\nprint(avg)",
      "execution_count": 7,
      "outputs": [
        {
          "output_type": "stream",
          "text": "62.58\n",
          "name": "stdout"
        }
      ]
    },
    {
      "metadata": {},
      "cell_type": "markdown",
      "source": "#### 第4問：整数型リストB1の要素の中の最大値を求めるコードを記述し、max(B1)の結果と一致することを確認してください。"
    },
    {
      "metadata": {
        "trusted": true
      },
      "cell_type": "code",
      "source": "print(max(B1))",
      "execution_count": 10,
      "outputs": [
        {
          "output_type": "stream",
          "text": "103\n",
          "name": "stdout"
        }
      ]
    }
  ],
  "metadata": {
    "kernelspec": {
      "name": "python36",
      "display_name": "Python 3.6",
      "language": "python"
    },
    "language_info": {
      "mimetype": "text/x-python",
      "nbconvert_exporter": "python",
      "name": "python",
      "pygments_lexer": "ipython3",
      "version": "3.6.6",
      "file_extension": ".py",
      "codemirror_mode": {
        "version": 3,
        "name": "ipython"
      }
    }
  },
  "nbformat": 4,
  "nbformat_minor": 2
}